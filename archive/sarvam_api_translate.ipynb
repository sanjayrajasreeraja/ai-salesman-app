{
 "cells": [
  {
   "cell_type": "code",
   "execution_count": null,
   "id": "4e487cab",
   "metadata": {},
   "outputs": [],
   "source": [
    "!pip install requests\n",
    "import os\n",
    "import requests"
   ]
  },
  {
   "cell_type": "code",
   "execution_count": null,
   "id": "e83f409e",
   "metadata": {},
   "outputs": [],
   "source": [
    "# Store your Sarvam AI API key in an environment variable for security\n",
    "SARVAM_API_KEY = os.getenv('SARVAM_API_KEY')  # Set this in your environment before running"
   ]
  },
  {
   "cell_type": "code",
   "execution_count": null,
   "id": "5c730ff0",
   "metadata": {},
   "outputs": [],
   "source": [
    "def sarvam_translate_api(text, src_lang='auto', tgt_lang='en'):\n",
    "    url = 'https://api.sarvam.ai/v1/translate'\n",
    "    headers = {\n",
    "        'Authorization': f'Bearer {SARVAM_API_KEY}',\n",
    "        'Content-Type': 'application/json'\n",
    "    }\n",
    "    payload = {\n",
    "        'text': text,\n",
    "        'src_lang': src_lang,\n",
    "        'tgt_lang': tgt_lang\n",
    "    }\n",
    "    response = requests.post(url, headers=headers, json=payload)\n",
    "    if response.status_code == 200:\n",
    "        return response.json().get('translation_text', None)\n",
    "    else:\n",
    "        print('Error:', response.status_code, response.text)\n",
    "        return None"
   ]
  },
  {
   "cell_type": "code",
   "execution_count": null,
   "id": "c1e4a252",
   "metadata": {},
   "outputs": [],
   "source": [
    "sample_text = \"கண்ணா பண்ணிங்கிதான் கூட்டும் கூட்டும் மாறு, சிங்கும் சிங்கிலாதான் வரு.\"\n",
    "translated_text = sarvam_translate_api(sample_text)"
   ]
  },
  {
   "cell_type": "code",
   "execution_count": null,
   "id": "839d462b",
   "metadata": {},
   "outputs": [],
   "source": [
    "print('Translated text:', translated_text)"
   ]
  }
 ],
 "metadata": {
  "language_info": {
   "name": "python"
  }
 },
 "nbformat": 4,
 "nbformat_minor": 5
}
